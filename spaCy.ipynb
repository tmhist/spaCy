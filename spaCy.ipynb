{
 "cells": [
  {
   "cell_type": "code",
   "execution_count": 177,
   "metadata": {},
   "outputs": [],
   "source": [
    "# Такой же анализ текста можно делать на сайте https://demos.explosion.ai/matcher"
   ]
  },
  {
   "cell_type": "code",
   "execution_count": 178,
   "metadata": {},
   "outputs": [],
   "source": [
    "# Import the spaCy library into Python\n",
    "import spacy\n",
    "\n",
    "# Load a small language model for English; assign the result under 'nlp'\n",
    "nlp = spacy.load('en_core_web_sm')"
   ]
  },
  {
   "cell_type": "code",
   "execution_count": 187,
   "metadata": {},
   "outputs": [],
   "source": [
    "# Russian language\n",
    "from spacy.lang.ru import Russian\n",
    "nlp = spacy.load(\"ru_core_news_sm\")"
   ]
  },
  {
   "cell_type": "code",
   "execution_count": 180,
   "metadata": {},
   "outputs": [],
   "source": [
    "# Use the open() function with the 'with' statement to open the file for reading\n",
    "with open(file='/Users/timurmitrofanov/Desktop/Code/spaCy/Tsivilsk_volost_court.txt', mode='r', encoding='utf-8') as file:\n",
    "    \n",
    "    # Use the read() method to read the contents of the file; assign result under \n",
    "    # the variable 'text'\n",
    "    text = file.read()"
   ]
  },
  {
   "cell_type": "code",
   "execution_count": 181,
   "metadata": {},
   "outputs": [
    {
     "data": {
      "text/plain": [
       "20632"
      ]
     },
     "execution_count": 181,
     "metadata": {},
     "output_type": "execute_result"
    }
   ],
   "source": [
    "# Feed the string object to the language model\n",
    "doc = nlp(text)\n",
    "\n",
    "# Use the len() function to check length of the Doc object to count \n",
    "# how many Tokens are contained within the Doc.\n",
    "len(doc)"
   ]
  },
  {
   "cell_type": "code",
   "execution_count": 182,
   "metadata": {},
   "outputs": [],
   "source": [
    "# Import the Matcher class\n",
    "from spacy.matcher import Matcher"
   ]
  },
  {
   "cell_type": "code",
   "execution_count": 183,
   "metadata": {},
   "outputs": [
    {
     "data": {
      "text/plain": [
       "<spacy.matcher.matcher.Matcher at 0x7fc4e9162140>"
      ]
     },
     "execution_count": 183,
     "metadata": {},
     "output_type": "execute_result"
    }
   ],
   "source": [
    "# Create a Matcher and provide model vocabulary; assign result under the variable 'matcher'\n",
    "matcher = Matcher(vocab=nlp.vocab)\n",
    "\n",
    "# Call the variable to examine the object\n",
    "matcher"
   ]
  },
  {
   "cell_type": "code",
   "execution_count": 184,
   "metadata": {},
   "outputs": [],
   "source": [
    "# Define a list with nested dictionaries that contains the pattern to be matched\n",
    "pronoun_verb = [{'POS': 'PRON'}, {'POS': 'VERB'}]"
   ]
  },
  {
   "cell_type": "code",
   "execution_count": 185,
   "metadata": {},
   "outputs": [],
   "source": [
    "# Add the pattern to the matcher under the name 'pronoun+verb'\n",
    "matcher.add(\"pronoun+verb\", patterns=[pronoun_verb])"
   ]
  },
  {
   "cell_type": "code",
   "execution_count": 186,
   "metadata": {},
   "outputs": [
    {
     "data": {
      "text/plain": [
       "[которую спросить,\n",
       " они несогла,\n",
       " ему нет,\n",
       " чего волостные,\n",
       " ей неиз,\n",
       " ими происходила,\n",
       " всего уплачено,\n",
       " которые ипроситъ,\n",
       " они несогласились,\n",
       " него знакъ,\n",
       " это решенiе,\n",
       " чего неисполнилось,\n",
       " чего незнаетъ,\n",
       " это передать,\n",
       " ему объявленiе,\n",
       " котором отбывшей,\n",
       " они несог,\n",
       " ему определила,\n",
       " себе оных,\n",
       " него взялъ,\n",
       " он объ,\n",
       " ими небыло,\n",
       " того употреблею,\n",
       " его удовлетворить,\n",
       " она принемъ,\n",
       " им пись,\n",
       " они охош,\n",
       " нiе взыскать,\n",
       " въ попечители,\n",
       " кого выставлен,\n",
       " ничего незнаетъ,\n",
       " ему хошпы,\n",
       " ими отдана,\n",
       " ми отдали,\n",
       " этому заявленый,\n",
       " вы семъ,\n",
       " ней обьявить,\n",
       " тому назадъ,\n",
       " ему взять,\n",
       " его давать,\n",
       " я въ,\n",
       " они въ,\n",
       " того убытокъ,\n",
       " его удовлетворить,\n",
       " его решенiи,\n",
       " им получить,\n",
       " они сменяли,\n",
       " ош трафовать,\n",
       " этого просит,\n",
       " его удовлетворить,\n",
       " этого овзысканiи,\n",
       " которыми иудовлетворить,\n",
       " себя считает,\n",
       " него взыскать,\n",
       " им пись]"
      ]
     },
     "execution_count": 186,
     "metadata": {},
     "output_type": "execute_result"
    }
   ],
   "source": [
    "# Apply the Matcher to the Doc object under 'doc'; provide the argument\n",
    "# 'as_spans' and set its value to True to get Spans as output\n",
    "result = matcher(doc, as_spans=True)\n",
    "\n",
    "# Call the variable to examine the output\n",
    "result"
   ]
  }
 ],
 "metadata": {
  "kernelspec": {
   "display_name": "GoogleVisionAPI",
   "language": "python",
   "name": "python3"
  },
  "language_info": {
   "codemirror_mode": {
    "name": "ipython",
    "version": 3
   },
   "file_extension": ".py",
   "mimetype": "text/x-python",
   "name": "python",
   "nbconvert_exporter": "python",
   "pygments_lexer": "ipython3",
   "version": "3.9.7"
  },
  "orig_nbformat": 4,
  "vscode": {
   "interpreter": {
    "hash": "bf2044f9985b7ad6245cf4ae06a56cd4d4000b00aed0418d548a5f48d34d2318"
   }
  }
 },
 "nbformat": 4,
 "nbformat_minor": 2
}
